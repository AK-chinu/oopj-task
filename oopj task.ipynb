{
 "cells": [
  {
   "cell_type": "markdown",
   "id": "8cae40f4-919e-4456-92c5-b591e9414a55",
   "metadata": {},
   "source": [
    "## Q1, Create a vehicle class with an init method having instance variables as name_of_vehicle, max_speed and average_of_vehicle."
   ]
  },
  {
   "cell_type": "code",
   "execution_count": 3,
   "id": "b7d8ccd9-e8c9-4a5a-9726-9ab26a457401",
   "metadata": {},
   "outputs": [],
   "source": [
    "class vehicle:\n",
    "    def __init__(self,name_of_vehicle,max_speed,average_of_vehicle):\n",
    "        self.name_of_vehicle=name_of_vehicle\n",
    "        self.max_speed=max_speed\n",
    "        self.average_of_vehicle=average_of_vehicle"
   ]
  },
  {
   "cell_type": "markdown",
   "id": "3b082fdb-ba37-4b64-afc6-08dd981d9a9a",
   "metadata": {},
   "source": [
    "## Q2. Create a child class car from the vehicle class created in Que 1, which will inherit the vehicle class. Create a method named seating_capacity which takes capacity as an argument and returns the name of the vehicle and its seating capacity."
   ]
  },
  {
   "cell_type": "code",
   "execution_count": 25,
   "id": "9991c468-e7e4-446e-801a-3aafa061a218",
   "metadata": {},
   "outputs": [],
   "source": [
    "class car(vehicle):\n",
    "    \n",
    "    def seating_capacity(self,capacity):\n",
    "        return self.name_of_vehicle,self.capacity"
   ]
  },
  {
   "cell_type": "code",
   "execution_count": 27,
   "id": "90679048-abd1-4aa0-9567-29ec6ecfde2c",
   "metadata": {},
   "outputs": [],
   "source": [
    "obj1=car(\"hhii\",5425,55)"
   ]
  },
  {
   "cell_type": "code",
   "execution_count": 33,
   "id": "5791cd02-fbf4-4dea-a476-b1b0ab48eaa9",
   "metadata": {},
   "outputs": [
    {
     "ename": "TypeError",
     "evalue": "car.seating_capacity() takes 1 positional argument but 2 were given",
     "output_type": "error",
     "traceback": [
      "\u001b[0;31m---------------------------------------------------------------------------\u001b[0m",
      "\u001b[0;31mTypeError\u001b[0m                                 Traceback (most recent call last)",
      "Cell \u001b[0;32mIn[33], line 1\u001b[0m\n\u001b[0;32m----> 1\u001b[0m \u001b[38;5;28mprint\u001b[39m(\u001b[43mobj1\u001b[49m\u001b[38;5;241;43m.\u001b[39;49m\u001b[43mseating_capacity\u001b[49m\u001b[43m(\u001b[49m\u001b[38;5;241;43m5\u001b[39;49m\u001b[43m)\u001b[49m)\n",
      "\u001b[0;31mTypeError\u001b[0m: car.seating_capacity() takes 1 positional argument but 2 were given"
     ]
    }
   ],
   "source": [
    "print(obj1.seating_capacity(5))"
   ]
  },
  {
   "cell_type": "markdown",
   "id": "6b8c3b83-ad9e-4199-9674-9a1b67ff6f11",
   "metadata": {},
   "source": [
    "## Q3. What is multiple inheritance? Write a python code to demonstrate multiple inheritance."
   ]
  },
  {
   "cell_type": "markdown",
   "id": "376f397f-432a-4816-b04e-696d911b2ccb",
   "metadata": {},
   "source": [
    "Ans:-Multiple inheritance is a feature of object-oriented programming languages where a class can inherit attributes and methods from more than one parent class. This means that a child class can be derived from multiple parent classes at the same time, allowing the child class to inherit the combined functionality of all its parent classes."
   ]
  },
  {
   "cell_type": "code",
   "execution_count": null,
   "id": "638987c1-83b3-40aa-8e66-13a8659d644e",
   "metadata": {},
   "outputs": [],
   "source": [
    "class Animal:\n",
    "    def __init__(self, name):\n",
    "        self.name = name\n",
    "    \n",
    "    def speak(self):\n",
    "        pass\n",
    "    \n",
    "class Mammal(Animal):\n",
    "    def __init__(self, name):\n",
    "        super().__init__(name)\n",
    "    \n",
    "    def give_birth(self):\n",
    "        print(f\"{self.name} is a mammal and gives birth to live young.\")\n",
    "    \n",
    "class Bird(Animal):\n",
    "    def __init__(self, name):\n",
    "        super().__init__(name)\n",
    "    \n",
    "    def lay_eggs(self):\n",
    "        print(f\"{self.name} is a bird and lays eggs.\")\n",
    "    \n",
    "class Platypus(Mammal, Bird):\n",
    "    def __init__(self, name):\n",
    "        super().__init__(name)\n",
    "    \n",
    "    def speak(self):\n",
    "        print(f\"{self.name} says 'G'day mate!'.\")\n",
    "    \n",
    "    def give_birth(self):\n",
    "        print(f\"{self.name} is a platypus and lays eggs, but also gives birth to live young.\")\n",
    "    \n",
    "perry = Platypus(\"Perry\")\n",
    "perry.speak()\n",
    "perry.give_birth()\n",
    "perry.lay_eggs()\n"
   ]
  },
  {
   "cell_type": "markdown",
   "id": "9b2c434e-56fd-415d-b0cf-e623ad526d40",
   "metadata": {},
   "source": [
    "## Q4. What are getter and setter in python? Create a class and create a getter and a setter method in this class."
   ]
  },
  {
   "cell_type": "markdown",
   "id": "9a1d7415-1bf3-42a5-8251-b0cf7ded3430",
   "metadata": {},
   "source": [
    "Ans:-In Python, getters and setters are methods that are used to access and modify the values of instance variables (attributes) of a class. Getters and setters are typically used to ensure that the access and modification of instance variables follow certain rules or validations."
   ]
  },
  {
   "cell_type": "code",
   "execution_count": null,
   "id": "6190a97e-2322-41b4-99a2-5ea7b134f812",
   "metadata": {},
   "outputs": [],
   "source": [
    "class car:\n",
    "    def __init__(self,year,color,model,speed):\n",
    "        self.__year=year\n",
    "        self.__color=color\n",
    "        self.__model=model\n",
    "        self.__speed=speed\n",
    "        \n",
    "    def set_speed(self,speed):\n",
    "        self.__speef=0 if speed <0 else speed\n",
    "        \n",
    "    def get_speed(self):\n",
    "        return self.__speed"
   ]
  },
  {
   "cell_type": "markdown",
   "id": "86efd450-d897-4eea-ac4d-34c52bf8c2e5",
   "metadata": {},
   "source": [
    "## Q5.What is method overriding in python? Write a python code to demonstrate method overriding."
   ]
  },
  {
   "cell_type": "markdown",
   "id": "1435c183-fcef-417a-bf60-33e9cdd49fe2",
   "metadata": {},
   "source": [
    "Ans:-Method overriding is a feature in object-oriented programming that allows a subclass to provide its own implementation of a method that is already defined in its superclass or parent class. In Python, method overriding is achieved by defining a method in the subclass with the same name as a method in the superclass.\n",
    "\n",
    "When a method is called on an object of the subclass, Python first checks if the method is defined in the subclass. If it is, then the implementation in the subclass is executed instead of the implementation in the superclass.\n",
    "\n",
    "Method overriding is useful when we want to modify the behavior of a method defined in a superclass to better fit the needs of the subclass. It allows us to reuse code from the superclass while also customizing it for specific use cases in the subclass."
   ]
  },
  {
   "cell_type": "code",
   "execution_count": 1,
   "id": "ddf6e2d3-a6c2-470f-80c2-1bab282dd691",
   "metadata": {},
   "outputs": [
    {
     "name": "stdout",
     "output_type": "stream",
     "text": [
      "The animal makes a sound.\n",
      "The dog barks.\n"
     ]
    }
   ],
   "source": [
    "class Animal:\n",
    "    def make_sound(self):\n",
    "        print(\"The animal makes a sound.\")\n",
    "\n",
    "class Dog(Animal):\n",
    "    def make_sound(self):\n",
    "        print(\"The dog barks.\")\n",
    "\n",
    "animal = Animal()\n",
    "animal.make_sound()  # prints \"The animal makes a sound.\"\n",
    "\n",
    "dog = Dog()\n",
    "dog.make_sound()  # prints \"The dog barks.\"\n"
   ]
  },
  {
   "cell_type": "code",
   "execution_count": null,
   "id": "e272510c-11de-4a89-99b7-a5e87a594590",
   "metadata": {},
   "outputs": [],
   "source": []
  }
 ],
 "metadata": {
  "kernelspec": {
   "display_name": "Python 3 (ipykernel)",
   "language": "python",
   "name": "python3"
  },
  "language_info": {
   "codemirror_mode": {
    "name": "ipython",
    "version": 3
   },
   "file_extension": ".py",
   "mimetype": "text/x-python",
   "name": "python",
   "nbconvert_exporter": "python",
   "pygments_lexer": "ipython3",
   "version": "3.10.8"
  }
 },
 "nbformat": 4,
 "nbformat_minor": 5
}
